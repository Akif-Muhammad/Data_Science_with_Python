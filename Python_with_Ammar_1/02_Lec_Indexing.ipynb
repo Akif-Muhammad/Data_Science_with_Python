{
 "cells": [
  {
   "cell_type": "markdown",
   "metadata": {},
   "source": [
    "# _**Indexing**_"
   ]
  },
  {
   "cell_type": "code",
   "execution_count": 4,
   "metadata": {},
   "outputs": [
    {
     "data": {
      "text/plain": [
       "13"
      ]
     },
     "execution_count": 4,
     "metadata": {},
     "output_type": "execute_result"
    }
   ],
   "source": [
    "# make a string\n",
    "a= \"Samosa pakora\"\n",
    "a\n",
    "# length of indeces\n",
    "len(a)\n",
    "# a[0]\n",
    "# a[1]\n",
    "# a[2]\n",
    "# a[3]\n",
    "# a[4]\n",
    "# a[5]\n",
    "# a[6]\n",
    "# a[8]\n",
    "# a[12]\n",
    "# a[0:6]\n",
    "# a[7:13]\n",
    "# a[-6:13]\n"
   ]
  },
  {
   "cell_type": "markdown",
   "metadata": {},
   "source": [
    "## string methods"
   ]
  },
  {
   "cell_type": "code",
   "execution_count": 6,
   "metadata": {},
   "outputs": [
    {
     "data": {
      "text/plain": [
       "7"
      ]
     },
     "execution_count": 6,
     "metadata": {},
     "output_type": "execute_result"
    }
   ],
   "source": [
    "food= \"baryani\"\n",
    "food\n",
    "len(food)\n",
    "# # capitalization of element\n",
    "food.capitalize()\n",
    "# # upper case letter\n",
    "food.upper()\n",
    "# # lower case letter\n",
    "food.lower()\n",
    "# replacement\n",
    "food.replace(\"b\", \"sh\")"
   ]
  },
  {
   "cell_type": "code",
   "execution_count": 8,
   "metadata": {},
   "outputs": [
    {
     "data": {
      "text/plain": [
       "1"
      ]
     },
     "execution_count": 8,
     "metadata": {},
     "output_type": "execute_result"
    }
   ],
   "source": [
    "# counting a specific alphabet in a string \n",
    "name = \"muhammad akif from yazman\"\n",
    "name\n",
    "name.count(\"h\")"
   ]
  },
  {
   "cell_type": "markdown",
   "metadata": {},
   "source": [
    "## -finding an index no in string"
   ]
  },
  {
   "cell_type": "code",
   "execution_count": 11,
   "metadata": {},
   "outputs": [
    {
     "data": {
      "text/plain": [
       "10"
      ]
     },
     "execution_count": 11,
     "metadata": {},
     "output_type": "execute_result"
    }
   ],
   "source": [
    "name = \"muhammad akif from yazman\"\n",
    "name\n",
    "name.find(\"k\")"
   ]
  },
  {
   "cell_type": "code",
   "execution_count": 16,
   "metadata": {},
   "outputs": [
    {
     "data": {
      "text/plain": [
       "['i love samosa ', ' pakora', ' Baryani', ' raita and karahi ']"
      ]
     },
     "execution_count": 16,
     "metadata": {},
     "output_type": "execute_result"
    }
   ],
   "source": [
    "# how to split a string \n",
    "food= \"i love samosa , pakora, Baryani, raita and karahi \"\n",
    "food\n",
    "food.split(\",\")"
   ]
  }
 ],
 "metadata": {
  "kernelspec": {
   "display_name": "Python 3.10.7 64-bit",
   "language": "python",
   "name": "python3"
  },
  "language_info": {
   "codemirror_mode": {
    "name": "ipython",
    "version": 3
   },
   "file_extension": ".py",
   "mimetype": "text/x-python",
   "name": "python",
   "nbconvert_exporter": "python",
   "pygments_lexer": "ipython3",
   "version": "3.10.7 (tags/v3.10.7:6cc6b13, Sep  5 2022, 14:08:36) [MSC v.1933 64 bit (AMD64)]"
  },
  "orig_nbformat": 4,
  "vscode": {
   "interpreter": {
    "hash": "db5fa823f162cd9cce39fbc31dfec0249ffa46bb843c3bee4e8b872f21f5526c"
   }
  }
 },
 "nbformat": 4,
 "nbformat_minor": 2
}
