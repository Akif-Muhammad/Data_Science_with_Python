{
 "cells": [
  {
   "cell_type": "markdown",
   "metadata": {},
   "source": [
    "## _**1:Mathematical Operators**_"
   ]
  },
  {
   "cell_type": "code",
   "execution_count": 6,
   "metadata": {},
   "outputs": [
    {
     "name": "stdout",
     "output_type": "stream",
     "text": [
      "2\n"
     ]
    }
   ],
   "source": [
    "# # Addition\n",
    "# 2+4\n",
    "# # Substraction\n",
    "# # 12-4\n",
    "# # # Multiply\n",
    "# # 4*9\n",
    "# # # Division (single bach slash for floating answering )\n",
    "# 20/4\n",
    "# # #  Division (double bach slash for whole or integer no answering )\n",
    "# 20//4\n",
    "# # # For exponent or power\n",
    "# # 4**2\n",
    "# # 4**3\n",
    "# Another way to apply of operators\n",
    "a=int(input(\"enter the 1st no\"))\n",
    "b=int(input(\"enter the 2nd no\"))\n",
    "a%b\n",
    "c=a%b\n",
    "print(c)\n"
   ]
  },
  {
   "cell_type": "code",
   "execution_count": 10,
   "metadata": {},
   "outputs": [
    {
     "name": "stdout",
     "output_type": "stream",
     "text": [
      "odd number.\n"
     ]
    }
   ],
   "source": [
    "# Odd and even numbers\n",
    "# even number wo hota hai jo divisible ho........2,4,6,8,10,etc\n",
    "# odd number wo hota hai jo non_divisible ho.......1,3,5,7,11,etc\n",
    "num=int(input(\"enter a number.   \"))\n",
    "if num%2==0:\n",
    "    print(\"even number\")\n",
    "else:\n",
    "    print(\"odd number.\")\n",
    "    \n"
   ]
  },
  {
   "cell_type": "code",
   "execution_count": 13,
   "metadata": {},
   "outputs": [
    {
     "name": "stdout",
     "output_type": "stream",
     "text": [
      "Not Eligible for vote:\n"
     ]
    }
   ],
   "source": [
    "# voting system program\n",
    "# age<18 not eligible \n",
    "# age>=18 eligible \n",
    "age=int(input(\"enter the age = \"))\n",
    "if age>=18:\n",
    "    print(\"Eligible for vote:\")\n",
    "else:\n",
    "    print(\"Not Eligible for vote:\")"
   ]
  },
  {
   "cell_type": "code",
   "execution_count": 15,
   "metadata": {},
   "outputs": [
    {
     "name": "stdout",
     "output_type": "stream",
     "text": [
      "44 is greater than 11\n"
     ]
    }
   ],
   "source": [
    "# maximum  b/w 2 numbers program\n",
    "# 1st no :36\n",
    "# 2nd no :77\n",
    "#  77 is greater number than 36\n",
    "a=int(input(\"enter 1st no:\"))\n",
    "b=int(input(\"enter 2nd no:\"))\n",
    "if a>b:\n",
    "    print(a,\"is greater than\" ,b)\n",
    "else:\n",
    "    print(b,\"is greater than\",a)\n"
   ]
  },
  {
   "cell_type": "code",
   "execution_count": 22,
   "metadata": {},
   "outputs": [],
   "source": [
    "# Greatest number among 3 number program\n",
    "# 1st no:44\n",
    "# 2nd no:33\n",
    "# 3rd no:99\n",
    "\n",
    "# result=99\n",
    "a=int(input(\"enter 1st no:\"))\n",
    "b=int(input(\"enter 2nd no:\"))\n",
    "c=int(input(\"enter 3rd no:\"))\n",
    "if a>b and a>c:\n",
    "    max=a\n",
    "elif b>a and b>c:\n",
    "    max=b\n",
    "else:\n",
    "    max=c\n",
    "    print(\"Greatest Number \",max)\n",
    "\n"
   ]
  },
  {
   "cell_type": "code",
   "execution_count": 28,
   "metadata": {},
   "outputs": [
    {
     "name": "stdout",
     "output_type": "stream",
     "text": [
      "1\n",
      "2\n",
      "3\n",
      "4\n",
      "5\n",
      "6\n",
      "7\n",
      "8\n"
     ]
    }
   ],
   "source": [
    "# Natural Number program using for loop\n",
    "# natural no= (1 2 3 4 5 6 7 8 9.......)\n",
    "# input value = 20 (1 to 20 )\n",
    "n=int(input(\"enter the no:\"))\n",
    "for n in range(1,n+1):\n",
    "    print(n)"
   ]
  },
  {
   "cell_type": "code",
   "execution_count": 48,
   "metadata": {},
   "outputs": [
    {
     "name": "stdout",
     "output_type": "stream",
     "text": [
      "factorial: 1\n",
      "factorial: 2\n",
      "factorial: 6\n",
      "factorial: 24\n",
      "factorial: 120\n",
      "factorial: 720\n",
      "factorial: 5040\n",
      "factorial: 40320\n",
      "factorial: 362880\n",
      "factorial: 3628800\n",
      "factorial: 39916800\n",
      "factorial: 479001600\n",
      "factorial: 6227020800\n",
      "factorial: 87178291200\n",
      "factorial: 1307674368000\n"
     ]
    }
   ],
   "source": [
    "# Area of rectangle program\n",
    "# length=l\n",
    "# breadth=b\n",
    "# area=l*b\n",
    "# l=int(input(\"enter the length:\"))\n",
    "# b=int(input(\"enter the breadth:\"))\n",
    "# area=l*b\n",
    "# print(\"Area of rectangle:\",area)\n",
    "\n",
    "\n",
    "# Area od square \n",
    "# area = side * side \n",
    "# s=int(input(\"enter the side :\"))\n",
    "# area=s*s\n",
    "# print(\"Area of Square:\",area)\n",
    "\n",
    "# Area of circle \n",
    "# input-------->redius\n",
    "# pi------------>3.14\n",
    "# formula area =pi*r**2\n",
    "# r=float(input(\"enter the redius:  \"))\n",
    "# area=3.14*r**2\n",
    "# print(\"Area of circle ::\",area)\n",
    "\n",
    "\n",
    "# Area of Triangle \n",
    "# 3 input---- a,b,c\n",
    "# s=(a+b+c)/2 ---->    semi parameter find krny ka formula kisi bhi triangle ka \n",
    "# area=(s*(s-a)*(s-b)*(s-c))**0.5\n",
    "# a=int(input(\"enter 1st side  :\"))\n",
    "# b=int(input(\"enter 2nd side  :\"))\n",
    "# c=int(input(\"enter 3rd side  :\"))\n",
    "# s=(a+b+c)/2\n",
    "# area=(s*(s-a)*(s-b)*(s-c))**0.5\n",
    "# print(\"Area of triangle::\",area)\n",
    "  \n",
    "\n",
    "\n",
    "# swapping 2 value \n",
    "# before swapping\n",
    "# you=40\n",
    "# me=20\n",
    "# after swapping\n",
    "# you=20\n",
    "# me=40\n",
    "\n",
    "# a=int(input(\"enter 1st value:\"))  #40\n",
    "# b=int(input(\"enter 2nd value:\"))  #20\n",
    "# a=a+b  # a=40+20=60\n",
    "# b=a-b  #b=60-20=40\n",
    "# a=a-b  #a=60-40=20\n",
    "# print(\"A\",a,\"B\",b)\n",
    "\n",
    "\n",
    "# python factorial program-----:\n",
    "# 5------->5*4*3*2*1=120\n",
    "num=int(input(\"enter no::\")) #num=5\n",
    "fact=1\n",
    "for i in range(1,num+1):  # range is a function in python in which provide starting & ending point(2 parameter).\n",
    "  fact=fact*i;        #fact=24               # is ka ending point hota hai \n",
    "                           # range(0,n-1)\n",
    "                             # range(0 to 9)\n",
    "  print(\"factorial:\",fact)\n"
   ]
  },
  {
   "cell_type": "markdown",
   "metadata": {},
   "source": [
    "## _**PEMDAS**_ \n",
    "Parenthesis Exponent Multiply  Divide Addition and Substraction\n",
    "\n",
    "Left to Right for M D & A S"
   ]
  },
  {
   "cell_type": "code",
   "execution_count": 6,
   "metadata": {},
   "outputs": [
    {
     "data": {
      "text/plain": [
       "8.5"
      ]
     },
     "execution_count": 6,
     "metadata": {},
     "output_type": "execute_result"
    }
   ],
   "source": [
    "# result in floating value because using single / back slash\n",
    "3**2/2*3/3+6-2\n",
    "#  result in integer value because using double // back slash\n",
    "# 3**2//2*3//3+6-2"
   ]
  },
  {
   "cell_type": "markdown",
   "metadata": {},
   "source": [
    "## _**2:String**_"
   ]
  },
  {
   "cell_type": "code",
   "execution_count": 15,
   "metadata": {},
   "outputs": [
    {
     "name": "stdout",
     "output_type": "stream",
     "text": [
      "I Love Data Science\n",
      "I Love Data Science\n",
      "I Love Data Science\n",
      "    I am Akif     \n"
     ]
    }
   ],
   "source": [
    "# test for Single quotes\n",
    "print('I Love Data Science')\n",
    "# test for Double quotes\n",
    "print(\"I Love Data Science\")\n",
    "# test for Tripple quotes\n",
    "print('''I Love Data Science''')\n",
    "# space \n",
    "print(\"    I am Akif     \")"
   ]
  },
  {
   "cell_type": "markdown",
   "metadata": {},
   "source": [
    "###  **_String is clear_**"
   ]
  },
  {
   "cell_type": "markdown",
   "metadata": {},
   "source": [
    "## _**3:Comments**_"
   ]
  },
  {
   "cell_type": "code",
   "execution_count": 16,
   "metadata": {},
   "outputs": [
    {
     "name": "stdout",
     "output_type": "stream",
     "text": [
      "     Hi Pakistan\n",
      "     Data Science with Python\n",
      "9\n"
     ]
    }
   ],
   "source": [
    "#  Shortcut key for comment out----> control+/\n",
    " # press (ctrl+/)  to comment out\n",
    "print('     Hi Pakistan')\n",
    "#print a string\n",
    "print(\"     Data Science with Python\") \n",
    "# print operators function with numbers\n",
    "print(3+6) "
   ]
  },
  {
   "cell_type": "markdown",
   "metadata": {},
   "source": [
    "## _**4:Variables**_\n"
   ]
  },
  {
   "cell_type": "code",
   "execution_count": 17,
   "metadata": {},
   "outputs": [
    {
     "name": "stdout",
     "output_type": "stream",
     "text": [
      "8\n",
      "Data Science_python with Dr. Ammar\n",
      "10\n",
      "<class 'str'>\n",
      "<class 'int'>\n"
     ]
    }
   ],
   "source": [
    "# Objects containing  specific values\n",
    "x=8 \n",
    "print(x) #numeric or integer variable\n",
    "y= \"Data Science_python with Dr. Ammar\" #String variable\n",
    "print(y)\n",
    "# x=10\n",
    "x= x+2\n",
    "print(x)\n",
    "# Type or class of varible\n",
    "type(y)\n",
    "print(type(y))\n",
    "type(x)\n",
    "print(type(x))"
   ]
  },
  {
   "cell_type": "markdown",
   "metadata": {},
   "source": [
    "## Rules To Assign a variables:-\n",
    "1 The variables should contain letters, numberes and underscores.\\\n",
    "2 Do not start with numbers\\\n",
    "3 Spaces are not allowed \\\n",
    "4 Do not use keyword used in function (break, mean, median and test etc.....)\\\n",
    "5 Short & Descriptive\\\n",
    "6 Case senstivity (lowercase, Uppercase Letters : lowercase letters should be used)"
   ]
  },
  {
   "cell_type": "code",
   "execution_count": 20,
   "metadata": {},
   "outputs": [
    {
     "name": "stdout",
     "output_type": "stream",
     "text": [
      "mangoes, oranges\n",
      "<class 'str'>\n"
     ]
    }
   ],
   "source": [
    "# Example of Variable\n",
    "fruit_basket= \"mangoes, oranges\"\n",
    "print(fruit_basket)\n",
    "type(fruit_basket)\n",
    "print(type(fruit_basket))"
   ]
  },
  {
   "cell_type": "markdown",
   "metadata": {},
   "source": [
    "## _**5:Input Functions**_"
   ]
  },
  {
   "cell_type": "code",
   "execution_count": 22,
   "metadata": {},
   "outputs": [
    {
     "name": "stdout",
     "output_type": "stream",
     "text": [
      "mangoes\n"
     ]
    }
   ],
   "source": [
    "# Simple Input Function\n",
    "fruit_basket=\"mangoes\"\n",
    "print(fruit_basket)\n",
    "\n"
   ]
  },
  {
   "cell_type": "code",
   "execution_count": 24,
   "metadata": {},
   "outputs": [
    {
     "name": "stdout",
     "output_type": "stream",
     "text": [
      "ammrood\n"
     ]
    },
    {
     "data": {
      "text/plain": [
       "'ammrood'"
      ]
     },
     "execution_count": 24,
     "metadata": {},
     "output_type": "execute_result"
    }
   ],
   "source": [
    "# Input function always return string values\n",
    "fruit_basket=input(\"what is your favourite fruit ? \")\n",
    "print(fruit_basket)\n",
    "\n",
    "fruit_basket"
   ]
  },
  {
   "cell_type": "code",
   "execution_count": 25,
   "metadata": {},
   "outputs": [
    {
     "name": "stdout",
     "output_type": "stream",
     "text": [
      "hello! Akif\n"
     ]
    }
   ],
   "source": [
    "# Input Function of 2nd Stage\n",
    "name=input(\"what is your name ? \")\n",
    "greetings=\"hello!\"\n",
    "print(greetings,name)"
   ]
  },
  {
   "cell_type": "code",
   "execution_count": 26,
   "metadata": {},
   "outputs": [
    {
     "name": "stdout",
     "output_type": "stream",
     "text": [
      "Hello ! Akif\n"
     ]
    }
   ],
   "source": [
    "# Another way to input function \n",
    "name=input(\"what is your name ? \")\n",
    "print(\"Hello !\" , name)"
   ]
  },
  {
   "cell_type": "code",
   "execution_count": 28,
   "metadata": {},
   "outputs": [
    {
     "name": "stdout",
     "output_type": "stream",
     "text": [
      "Hello! Akif :  You are  still age is 20 year\n"
     ]
    }
   ],
   "source": [
    "# 3rd Stage input Function \n",
    "name=input(\"what is your name ? \")\n",
    "age=input(\"How old are you? \")\n",
    "greetings=\"Hello!\"\n",
    "print(greetings, name , \":  You are  still age is 20 year\")"
   ]
  },
  {
   "cell_type": "markdown",
   "metadata": {},
   "source": [
    "## _**6:Conditional Operators**_"
   ]
  },
  {
   "cell_type": "markdown",
   "metadata": {},
   "source": [
    "##### Logical Operators are \"True or False\", \"Yes or No\", \"0 or 1\"\n",
    "##### Equal to -------------------- ==\n",
    "##### Not equal to ----------------!=\n",
    "##### Less than ------------------- <\n",
    "##### Greater than ----------------->\n",
    "##### Less than or equal to -------<=\n",
    "##### Greater than or equal to ---->="
   ]
  },
  {
   "cell_type": "code",
   "execution_count": 30,
   "metadata": {},
   "outputs": [
    {
     "name": "stdout",
     "output_type": "stream",
     "text": [
      "True\n",
      "False\n",
      "True\n",
      "True\n",
      "True\n",
      "False\n",
      "True\n",
      "False\n",
      "False\n",
      "<class 'str'>\n",
      "False\n"
     ]
    }
   ],
   "source": [
    "# How to apply them in python \n",
    "# 4 equal to 4\n",
    "print(4==4)\n",
    "# 4 not equal to 4\n",
    "print(4!=4)\n",
    "\n",
    "#  4 greater then 2\n",
    "print(4>2)\n",
    "# 4 less then 8\n",
    "print(4<8)\n",
    "# 4 greater then or equal to 3\n",
    "print(4>=3)\n",
    "print(4>=8)\n",
    "# 4 less then or equal to 8\n",
    "print(4<=8)\n",
    "print(4<=3)\n",
    "# Apply of Logical Operators\n",
    "Akif_age=5\n",
    "age_at_school=6\n",
    "print(Akif_age==age_at_school)\n",
    "\n",
    "# input  function & Logical Operators\n",
    "age_at_school=5\n",
    "Akif_age=input(\"how old is Akif ?  \") # input function\n",
    "print(type(Akif_age))                 # check data type\n",
    "Akif_age=int(Akif_age)                # convert data type into int\n",
    "print(Akif_age==age_at_school)        # Logical Operators\n"
   ]
  },
  {
   "cell_type": "markdown",
   "metadata": {},
   "source": [
    "## _**7:Data type conversion**_"
   ]
  },
  {
   "cell_type": "code",
   "execution_count": 32,
   "metadata": {},
   "outputs": [
    {
     "name": "stdout",
     "output_type": "stream",
     "text": [
      "Akif <class 'str'>\n"
     ]
    }
   ],
   "source": [
    "# x= 10   #integer\n",
    "# y= 10.5  #float\n",
    "# z=\"Hi\"   #string\n",
    "# # that is mean k jb bhi kisi integer ko float value k 7 multiply ya add krein to answer float value mein e aye ga \n",
    "# #implicit type conversion\n",
    "# x=x*y\n",
    "\n",
    "# # x=x+y\n",
    "# print(x,\"Type of x is:\", type(x))\n",
    "\n",
    "# explicit type conversion\n",
    "# age=input(\"What is your age ? \")\n",
    "# age=int(age)\n",
    "# # print(age)\n",
    "# print(age, type(int(age)))\n",
    "\n",
    "#name \n",
    "name=input(\"What is your name ? \")\n",
    "# name=str(name)\n",
    "# print(age)\n",
    "print(name, type(str(name)))\n",
    "\n"
   ]
  },
  {
   "cell_type": "markdown",
   "metadata": {},
   "source": [
    "## _**8:if_else and elif Statement**_"
   ]
  },
  {
   "cell_type": "code",
   "execution_count": 42,
   "metadata": {},
   "outputs": [
    {
     "name": "stdout",
     "output_type": "stream",
     "text": [
      "ali should join the secondary school or  college.\n"
     ]
    }
   ],
   "source": [
    "\n",
    "ali_age=4\n",
    "required_age_at_school=7\n",
    " \n",
    "# Question : can ali go to school?\n",
    "\n",
    "if ali_age==required_age_at_school:\n",
    "    print(\" Congratulation ali can joini the school.: \")\n",
    "elif ali_age>required_age_at_school:\n",
    "    print(\"ali should join the secondary school or  college.\")\n",
    "elif ali_age<=5:\n",
    "    print(\"you should take car\n",
    "    e of ali . he is still baby:\")\n",
    "\n",
    "else:\n",
    "    print(\"ali can not join te school\")\n"
   ]
  },
  {
   "cell_type": "markdown",
   "metadata": {},
   "source": [
    "## _**9:Functions**_"
   ]
  },
  {
   "cell_type": "code",
   "execution_count": 59,
   "metadata": {},
   "outputs": [],
   "source": [
    "# print(\"we are learning with ammar \")\n",
    "# print(\"we are learning with ammar \")\n",
    "# print(\"we are learning with ammar \")\n",
    "\n",
    "#define function(function ko define krny k liye commond/argument)\n",
    "#  1\n",
    "# def print_codanics():\n",
    "#     print(\"we are learning with ammar \")\n",
    "#     print(\"we are learning with ammar \")\n",
    "#     print(\"we are learning with ammar \")\n",
    "    \n",
    "# print_codanics()\n",
    "\n",
    "#  2\n",
    "# def print_codanics():\n",
    "#  text = \"we are learning with ammar in codanics platform\"\n",
    "#     # print(\"we are learning with ammar in codanics platform\")\n",
    "#     print(text)\n",
    "#     print(text)\n",
    "#     print(text)\n",
    "#     print(text)\n",
    "#     print(text)\n",
    "#     print(text)\n",
    "    \n",
    "\n",
    "# print_codanics()\n",
    "\n",
    "#3\n",
    "# def print_codanics(text):\n",
    "\n",
    "#     print(text)\n",
    "#     print(text)\n",
    "#     print(text)\n",
    "#     print(text)\n",
    "# print_codanics(\"we are learning with ammar in codanics youtube channel\")\n",
    "\n",
    "# defining a function with if, elif and else statement\n",
    "# def school_calculator(age):\n",
    "#     # if age==5:\n",
    "#     #   print(\"ali can go to school.\")\n",
    "#     # elif age>5:\n",
    "#     #   print(\"ali should go to  the secodary school or college.\")\n",
    "#       elif age<=5:\n",
    "#         print(\"you should take care of ali , he is still a baby\")\n",
    "#       else:\n",
    "#       print(\"ali can not go to school\")\n",
    "#       school_calculator(20) \n"
   ]
  },
  {
   "cell_type": "code",
   "execution_count": 63,
   "metadata": {},
   "outputs": [
    {
     "name": "stdout",
     "output_type": "stream",
     "text": [
      "75\n"
     ]
    }
   ],
   "source": [
    "# Defining a function of future (Machine learning Module)\n",
    "def future_age(age):\n",
    "    new_age=age+20\n",
    "    return new_age\n",
    "    # print(new_age)\n",
    "future_predicted_age=future_age(55)\n",
    "print(future_predicted_age)\n",
    "\n",
    "\n",
    "# i understand function really well"
   ]
  },
  {
   "cell_type": "markdown",
   "metadata": {},
   "source": [
    "## _**10:Loops**_"
   ]
  },
  {
   "cell_type": "code",
   "execution_count": 26,
   "metadata": {},
   "outputs": [],
   "source": [
    "# # #while loop\n",
    "x=0\n",
    "while (x>=5):\n",
    "    print(x) \n",
    "    x=x+1\n",
    "   \n",
    "\n",
    "#     #for loop\n",
    "# for x in range (1,11):\n",
    "#         print(x)"
   ]
  },
  {
   "cell_type": "code",
   "execution_count": 65,
   "metadata": {},
   "outputs": [
    {
     "name": "stdout",
     "output_type": "stream",
     "text": [
      "mon\n",
      "tue\n",
      "wed\n",
      "thu\n",
      "fri\n",
      "sat\n",
      "sun\n"
     ]
    }
   ],
   "source": [
    "# for loop using in programming\n",
    "\n",
    "# array ? array is a data set \n",
    "#example:\n",
    "\n",
    "days= [\"mon\", \"tue\", \"wed\", \"thu\",\"fri\",\"sat\",\"sun\"]\n",
    "for d in days:\n",
    "    # print(d)\n",
    "    #break function : it is mean loop stop\n",
    "    # if (d==\"fri\"):break\n",
    "    #break function fot continue\n",
    "    # if (d==\"fri\"):continue\n",
    "    print(d)"
   ]
  },
  {
   "cell_type": "markdown",
   "metadata": {},
   "source": [
    "## _**11:important libraries**_"
   ]
  },
  {
   "cell_type": "code",
   "execution_count": 68,
   "metadata": {},
   "outputs": [
    {
     "name": "stdout",
     "output_type": "stream",
     "text": [
      "The value of pi is : 3.141592653589793\n",
      "145\n"
     ]
    }
   ],
   "source": [
    "# We can use open source function through labraries\n",
    "# if you want to print the value of pi\n",
    "\n",
    "import math\n",
    "print(\"The value of pi is :\",math.pi)\n",
    "\n",
    "import statistics\n",
    "x=[120,130,140,150,160,170]\n",
    "print(statistics.mean(x))\n",
    "\n"
   ]
  },
  {
   "cell_type": "markdown",
   "metadata": {},
   "source": [
    "## _**12:Trouble Shooting**_"
   ]
  },
  {
   "cell_type": "code",
   "execution_count": 70,
   "metadata": {},
   "outputs": [
    {
     "name": "stdout",
     "output_type": "stream",
     "text": [
      "we are learing python with Aammar\n",
      "10.0\n",
      "Hello! Akif\n"
     ]
    }
   ],
   "source": [
    "#  Errors \n",
    "# Syntax error----> missing qutation or commas etc \n",
    "# print(we are learing python with Aammar) #wrong\n",
    "\n",
    "print(\"we are learing python with Aammar\") #correct\n",
    "\n",
    "\n",
    "# Runtime error ----> mathematical error\n",
    "#example\n",
    "# print(20/0) #wrong\n",
    "\n",
    "print(20/2) #correct\n",
    "\n",
    "#logical or smentic error it is very dificult error. Bsically ye hamari apni ghalti hoti hai\n",
    "#example\n",
    "name= \"Akif\"\n",
    "# print(\"Hello name\") #wrong\n",
    " #correct  agr hmein space chaiye to , ka use krty hain na chaiye ho to + ka let's see\n",
    "print(\"Hello!\",name)\n",
    "\n",
    "# trouple shooting is eady"
   ]
  }
 ],
 "metadata": {
  "kernelspec": {
   "display_name": "Python 3.10.7 64-bit",
   "language": "python",
   "name": "python3"
  },
  "language_info": {
   "codemirror_mode": {
    "name": "ipython",
    "version": 3
   },
   "file_extension": ".py",
   "mimetype": "text/x-python",
   "name": "python",
   "nbconvert_exporter": "python",
   "pygments_lexer": "ipython3",
   "version": "3.10.7 (tags/v3.10.7:6cc6b13, Sep  5 2022, 14:08:36) [MSC v.1933 64 bit (AMD64)]"
  },
  "orig_nbformat": 4,
  "vscode": {
   "interpreter": {
    "hash": "db5fa823f162cd9cce39fbc31dfec0249ffa46bb843c3bee4e8b872f21f5526c"
   }
  }
 },
 "nbformat": 4,
 "nbformat_minor": 2
}
